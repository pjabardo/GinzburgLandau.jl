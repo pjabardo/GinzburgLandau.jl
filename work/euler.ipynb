{
 "cells": [
  {
   "cell_type": "markdown",
   "metadata": {},
   "source": [
    "# Solução da equação de Ginzburg-Landau complexa"
   ]
  },
  {
   "cell_type": "code",
   "execution_count": null,
   "metadata": {
    "collapsed": false
   },
   "outputs": [],
   "source": [
    "include(\"../src/GinzburgLandau.jl\")\n",
    "GL = GinzburgLandau\n",
    "using PyPlot"
   ]
  },
  {
   "cell_type": "code",
   "execution_count": null,
   "metadata": {
    "collapsed": false
   },
   "outputs": [],
   "source": [
    "σ = 1.91e-2\n",
    "c₃ = 1.66\n",
    "c₁ = 0.64\n",
    "γc = 1.99e-2\n",
    "\n",
    "gle = GL.GLECoeffs(σ, γc, c₁, c₃)"
   ]
  },
  {
   "cell_type": "code",
   "execution_count": null,
   "metadata": {
    "collapsed": false
   },
   "outputs": [],
   "source": [
    "N = 128\n",
    "L = 1.0\n",
    "Δt = 0.001\n",
    "\n",
    "slv = GL.GLESolver1(L, N, Δt, gle);\n",
    "\n"
   ]
  },
  {
   "cell_type": "code",
   "execution_count": null,
   "metadata": {
    "collapsed": false
   },
   "outputs": [],
   "source": [
    "z = GL.nodes(slv)\n",
    "a0 = 1.0 + 0.0im+ 0.05*cos(π*z/L) -0.05*cos(2π*z/L) + 0.02*cos(3π*z/L) ;\n"
   ]
  },
  {
   "cell_type": "code",
   "execution_count": null,
   "metadata": {
    "collapsed": false
   },
   "outputs": [],
   "source": []
  },
  {
   "cell_type": "code",
   "execution_count": null,
   "metadata": {
    "collapsed": false
   },
   "outputs": [],
   "source": []
  },
  {
   "cell_type": "code",
   "execution_count": null,
   "metadata": {
    "collapsed": false
   },
   "outputs": [],
   "source": [
    "m = 1000\n",
    "â = zeros(Complex{Float64}, N, m);\n",
    "t = Δt*(0:(m-1))"
   ]
  },
  {
   "cell_type": "code",
   "execution_count": null,
   "metadata": {
    "collapsed": false
   },
   "outputs": [],
   "source": [
    "â[:,1] = dct(a0);"
   ]
  },
  {
   "cell_type": "code",
   "execution_count": null,
   "metadata": {
    "collapsed": false
   },
   "outputs": [],
   "source": [
    "for i = 2:m\n",
    "    GL.gle_step!(slv, gle, sub(â, :, i-1), sub(â, :, i))\n",
    "end"
   ]
  },
  {
   "cell_type": "code",
   "execution_count": null,
   "metadata": {
    "collapsed": false
   },
   "outputs": [],
   "source": []
  },
  {
   "cell_type": "code",
   "execution_count": null,
   "metadata": {
    "collapsed": false
   },
   "outputs": [],
   "source": [
    "#plot(t, vec(real(a[1,:])))\n",
    "\n",
    "a = idct(â, 1)\n",
    "plot(z, real(a0), \"b-\")\n",
    "plot(z, real(a[:,m]), \"r-\")\n"
   ]
  },
  {
   "cell_type": "code",
   "execution_count": null,
   "metadata": {
    "collapsed": false
   },
   "outputs": [],
   "source": [
    "\n",
    "nd = 4\n",
    "m2 = m * nd\n",
    "dt2 = Δt/nd\n",
    "â₂ = zeros(Complex{Float64}, N, m2);\n",
    "t2 = dt2*(0:(m2-1))\n",
    "\n",
    "â₂[:,1] = dct(a0);"
   ]
  },
  {
   "cell_type": "code",
   "execution_count": null,
   "metadata": {
    "collapsed": true
   },
   "outputs": [],
   "source": [
    "slv2  = GL.GLESolver1(L, N, dt2, gle);"
   ]
  },
  {
   "cell_type": "code",
   "execution_count": null,
   "metadata": {
    "collapsed": true
   },
   "outputs": [],
   "source": [
    "for i = 2:m2\n",
    "    GL.gle_step!(slv2, gle, sub(â₂, :, i-1), sub(â₂, :, i))\n",
    "end"
   ]
  },
  {
   "cell_type": "code",
   "execution_count": null,
   "metadata": {
    "collapsed": false
   },
   "outputs": [],
   "source": [
    "a2 = idct(â₂, 1)\n",
    "plot(z, imag(a0), \"b-\")\n",
    "plot(z, imag(a[:,m]), \"r-\")\n",
    "plot(z, imag(a2[:,m2-nd+1]), \"g--\")\n"
   ]
  },
  {
   "cell_type": "code",
   "execution_count": null,
   "metadata": {
    "collapsed": false
   },
   "outputs": [],
   "source": [
    "err = maxabs(a[:,m] - a2[:,m2-nd+1])"
   ]
  },
  {
   "cell_type": "code",
   "execution_count": null,
   "metadata": {
    "collapsed": false
   },
   "outputs": [],
   "source": [
    "nd"
   ]
  },
  {
   "cell_type": "code",
   "execution_count": null,
   "metadata": {
    "collapsed": true
   },
   "outputs": [],
   "source": []
  },
  {
   "cell_type": "code",
   "execution_count": null,
   "metadata": {
    "collapsed": true
   },
   "outputs": [],
   "source": []
  }
 ],
 "metadata": {
  "kernelspec": {
   "display_name": "Julia 0.4.5",
   "language": "julia",
   "name": "julia-0.4"
  },
  "language_info": {
   "file_extension": ".jl",
   "mimetype": "application/julia",
   "name": "julia",
   "version": "0.4.5"
  }
 },
 "nbformat": 4,
 "nbformat_minor": 0
}
